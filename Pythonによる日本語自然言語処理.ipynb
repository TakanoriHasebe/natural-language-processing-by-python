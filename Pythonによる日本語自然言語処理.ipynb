{
 "cells": [
  {
   "cell_type": "markdown",
   "metadata": {},
   "source": [
    "## <font color='blue'>平文コーパス</font>"
   ]
  },
  {
   "cell_type": "markdown",
   "metadata": {},
   "source": [
    "以下では、日本語の平文コーパス、すなわち、分かち書きされていないコーパスをどのようにして読み込み、各種の言語処理を行うかを解説する。<br>"
   ]
  },
  {
   "cell_type": "markdown",
   "metadata": {},
   "source": [
    "ここでは、単語の分かち書きなどの複雑な処理はせずに、行をそのままパラグラフとして<br>\n",
    "「。」「！」「？」で終わる一連の文字列を文として、同一文字種（ひらがな、カタカナ、漢字、その他）の連続をトークンとして検出する。"
   ]
  },
  {
   "cell_type": "code",
   "execution_count": 9,
   "metadata": {
    "collapsed": true
   },
   "outputs": [],
   "source": [
    "import nltk\n",
    "from nltk.corpus.reader import *\n",
    "from nltk.corpus.reader.util import *\n",
    "from nltk.text import Text"
   ]
  },
  {
   "cell_type": "markdown",
   "metadata": {},
   "source": [
    "「。」、「！」、「？」で終わる一連の文字列を文として認識し、分割するために、以下を定義する<br>"
   ]
  },
  {
   "cell_type": "code",
   "execution_count": 10,
   "metadata": {
    "collapsed": true
   },
   "outputs": [],
   "source": [
    "jp_sent_tokenizer = nltk.RegexpTokenizer(u'[^　「」！？。]*[！？。]')"
   ]
  },
  {
   "cell_type": "markdown",
   "metadata": {},
   "source": [
    "文字種はそれぞれ Unicode の範囲を指定することによって検出できる。<br>\n",
    "以下のように定義する。<br>"
   ]
  },
  {
   "cell_type": "code",
   "execution_count": 11,
   "metadata": {
    "collapsed": true
   },
   "outputs": [],
   "source": [
    "jp_chartype_tokenizer = nltk.RegexpTokenizer(u'([ぁ-んー]+|[ァ-ンー]+|[\\u4e00-\\\\u9FFF]+|[^ぁ-んァ-ンー\\u4e00-\\u9FFF]+)')"
   ]
  },
  {
   "cell_type": "markdown",
   "metadata": {},
   "source": [
    "以上の各パラメータを使って、平文コーパスを読み込む<br>"
   ]
  },
  {
   "cell_type": "code",
   "execution_count": 12,
   "metadata": {
    "collapsed": false
   },
   "outputs": [],
   "source": [
    "ginga = PlaintextCorpusReader(\"corpora\", 'gingatetsudono_yoru.txt', encoding='utf-8', para_block_reader=read_line_block, sent_tokenizer=jp_sent_tokenizer, word_tokenizer=jp_chartype_tokenizer)"
   ]
  },
  {
   "cell_type": "markdown",
   "metadata": {},
   "source": [
    "CorpusReaderによって読み込んだ後にできることは以下のようになる。<br>\n",
    "<ol>\n",
    "<li>平文を表示</li>\n",
    "<li>トークンの列挙</li>\n",
    "<li>Textをオブジェクトに変換した後のコンコーダンスの表示</li>\n",
    "</ol>"
   ]
  },
  {
   "cell_type": "code",
   "execution_count": null,
   "metadata": {
    "collapsed": true
   },
   "outputs": [],
   "source": []
  }
 ],
 "metadata": {
  "kernelspec": {
   "display_name": "Python [conda root]",
   "language": "python",
   "name": "conda-root-py"
  },
  "language_info": {
   "codemirror_mode": {
    "name": "ipython",
    "version": 3
   },
   "file_extension": ".py",
   "mimetype": "text/x-python",
   "name": "python",
   "nbconvert_exporter": "python",
   "pygments_lexer": "ipython3",
   "version": "3.5.2"
  }
 },
 "nbformat": 4,
 "nbformat_minor": 2
}
